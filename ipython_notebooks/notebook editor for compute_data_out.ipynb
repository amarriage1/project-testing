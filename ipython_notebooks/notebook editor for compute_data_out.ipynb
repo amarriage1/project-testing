{
  "metadata": {
    "kernelspec": {
      "name": "python3",
      "display_name": "Python 3",
      "language": "python"
    },
    "associatedRecipe": "compute_data_out",
    "creator": "irene",
    "createdOn": 1669305804625,
    "tags": [
      "recipe-editor"
    ],
    "customFields": {},
    "hide_input": false,
    "language_info": {
      "name": "python",
      "version": "3.6.8",
      "mimetype": "text/x-python",
      "codemirror_mode": {
        "name": "ipython",
        "version": 3
      },
      "pygments_lexer": "ipython3",
      "nbconvert_exporter": "python",
      "file_extension": ".py"
    },
    "modifiedBy": "irene"
  },
  "nbformat": 4,
  "nbformat_minor": 1,
  "cells": [
    {
      "execution_count": 3,
      "cell_type": "code",
      "metadata": {},
      "source": [
        "import dataiku\ndf \u003d dataiku.Dataset(\"data\").get_dataframe()\n\nseries \u003d df.isin([\"Infinity\", \"-Infinity\"]).sum()\nprint(series)\n\n\n"
      ],
      "outputs": [
        {
          "output_type": "stream",
          "text": "cm_accountid                                0\ncampaign_name                               0\naccount_affinity                            0\ncampaign_affinity                           0\noriginal_dataset                            0\ntarget                                      0\nstartdate_min                               0\nenddate_max                                 0\nqualified_leads                             0\nsales_accepted_leads                        0\nsales_qualified_leads                       0\nmarketing_qualified_leads                   0\nmarketing_engaged_leads                     0\nleads                                       0\nleads_1_months                              0\nleads_3_months                              0\nleads_6_months                              0\nleads_12_months                             0\nsales_qualified_leads_1_months              0\nsales_qualified_leads_3_months              0\nsales_qualified_leads_6_months              0\nsales_qualified_leads_12_months             0\nsales_accepted_leads_1_months               0\nsales_accepted_leads_3_months               0\nsales_accepted_leads_6_months               0\nsales_accepted_leads_12_months              0\nmarketing_qualified_leads_1_months          0\nmarketing_qualified_leads_3_months          0\nmarketing_qualified_leads_6_months          0\nmarketing_qualified_leads_12_months         0\ndays_since_last_won_oppty                   0\ndays_since_first_won_oppty                  0\ntotal_won_amount                            0\ntotal_won_opps                              0\ndays_since_last_won_oppty_firewall          0\ndays_since_last_won_oppty_prisma_cloud      0\ndays_since_last_won_oppty_cortex            0\ndays_since_last_won_oppty_subs_services     0\ndays_since_last_won_oppty_unit42            0\ndays_since_last_won_oppty_prisma_sase       0\ntotal_won_prisma_sase_opps                  0\ntotal_won_firewall_opps                     0\ntotal_won_prisma_cloud_opps                 0\ntotal_won_cortex_opps                       0\ntotal_won_subs_services_opps                0\ntotal_won_unit42_opps                       0\nwon_opps_1_months                           0\nwon_opps_6_months                           0\nwon_opps_12_months                          0\nwon_opps_24_months                          0\nwon_opps_1_months_firewall                  0\nwon_opps_6_months_firewall                  0\nwon_opps_12_months_firewall                 0\nwon_opps_24_months_firewall                 0\nwon_opps_1_months_cloud                     0\nwon_opps_6_months_cloud                     0\nwon_opps_12_months_cloud                    0\nwon_opps_24_months_cloud                    0\nwon_opps_1_months_cortex                    0\nwon_opps_6_months_cortex                    0\nwon_opps_12_months_cortex                   0\nwon_opps_24_months_cortex                   0\nwon_opps_1_months_cdss                      0\nwon_opps_6_months_cdss                      0\nwon_opps_12_months_cdss                     0\nwon_opps_24_months_cdss                     0\nwon_opps_1_months_unit42                    0\nwon_opps_6_months_unit42                    0\nwon_opps_12_months_unit42                   0\nwon_opps_24_months_unit42                   0\nwon_opps_1_months_sase                      0\nwon_opps_6_months_sase                      0\nwon_opps_12_months_sase                     0\nwon_opps_24_months_sase                     0\nc_0_1_months_cases                          0\nc_1_3_months_cases                          0\nc_3_6_months_cases                          0\nc_over_6_months_cases                       0\ntotal_cases                                 0\nc_total_open_cases                          0\nc_total_closed_cases                        0\ncontacts_1_months                           0\ncontacts_3_months                           0\ncontacts_6_months                           0\ncontacts_12_months                          0\ncontacts_network_1_months                   0\ncontacts_network_3_months                   0\ncontacts_network_6_months                   0\ncontacts_network_12_months                  0\ncontacts_security_1_months                  0\ncontacts_security_3_months                  0\ncontacts_security_6_months                  0\ncontacts_security_12_months                 0\ncontacts_infrastructure_1_months            0\ncontacts_infrastructure_3_months            0\ncontacts_infrastructure_6_months            0\ncontacts_infrastructure_12_months           0\ncontacts_information_1_months               0\ncontacts_information_3_months               0\ncontacts_information_6_months               0\ncontacts_information_12_months              0\ncontacts_other_1_months                     0\ncontacts_other_3_months                     0\ncontacts_other_6_months                     0\ncontacts_other_12_months                    0\n                                           ..\nunit42_active_hist                          0\nfirewall_total_hist                         0\ncortex_total_hist                           0\ncdss_total_hist                             0\nprisma_cloud_total_hist                     0\nprisma_sase_total_hist                      0\nunit42_total_hist                           0\ndays_until_exp_firewall_hist                0\ndays_until_exp_cortex_hist                  0\ndays_until_exp_cdss_hist                    0\ndays_until_exp_prisma_cloud_hist            0\ndays_until_exp_prisma_sase_hist             0\ndays_until_exp_unit42_hist                  0\ndays_since_last_lost_oppty                  0\ndays_since_first_lost_oppty                 0\ntotal_lost_amount                           0\ntotal_lost_opps                             0\ndays_since_last_lost_oppty_firewall         0\ndays_since_last_lost_oppty_prisma_cloud     0\ndays_since_last_lost_oppty_cortex           0\ndays_since_last_lost_oppty_subs_services    0\ndays_since_last_lost_oppty_unit42           0\ndays_since_last_lost_oppty_prisma_sase      0\ntotal_lost_prisma_sase_opps                 0\ntotal_lost_firewall_opps                    0\ntotal_lost_prisma_cloud_opps                0\ntotal_lost_cortex_opps                      0\ntotal_lost_subs_services_opps               0\ntotal_lost_unit42_opps                      0\nlost_opps_1_months_firewall                 0\nlost_opps_6_months_firewall                 0\nlost_opps_12_months_firewall                0\nlost_opps_24_months_firewall                0\nlost_opps_1_months_cloud                    0\nlost_opps_6_months_cloud                    0\nlost_opps_12_months_cloud                   0\nlost_opps_24_months_cloud                   0\nlost_opps_1_months_cortex                   0\nlost_opps_6_months_cortex                   0\nlost_opps_12_months_cortex                  0\nlost_opps_24_months_cortex                  0\nlost_opps_1_months_cdss                     0\nlost_opps_6_months_cdss                     0\nlost_opps_12_months_cdss                    0\nlost_opps_24_months_cdss                    0\nlost_opps_1_months_unit42                   0\nlost_opps_6_months_unit42                   0\nlost_opps_12_months_unit42                  0\nlost_opps_24_months_unit42                  0\nlost_opps_1_months_sase                     0\nlost_opps_6_months_sase                     0\nlost_opps_12_months_sase                    0\nlost_opps_24_months_sase                    0\ndays_since_last_open_oppty                  0\ndays_since_first_open_oppty                 0\ntotal_open_opps                             0\ntotal_open_amount                           0\ndays_since_last_open_oppty_firewall         0\ndays_since_last_open_oppty_prisma_cloud     0\ndays_since_last_open_oppty_cortex           0\ndays_since_last_open_oppty_subs_services    0\ndays_since_last_open_oppty_unit42           0\ndays_since_last_open_oppty_prisma_sase      0\ntotal_open_prisma_sase_opps                 0\ntotal_open_firewall_opps                    0\ntotal_open_prisma_cloud_opps                0\ntotal_open_cortex_opps                      0\ntotal_open_subs_services_opps               0\ntotal_open_unit42_opps                      0\nopen_opps_1_months_firewall                 0\nopen_opps_6_months_firewall                 0\nopen_opps_12_months_firewall                0\nopen_opps_24_months_firewall                0\nopen_opps_1_months_cloud                    0\nopen_opps_6_months_cloud                    0\nopen_opps_12_months_cloud                   0\nopen_opps_24_months_cloud                   0\nopen_opps_1_months_cortex                   0\nopen_opps_6_months_cortex                   0\nopen_opps_12_months_cortex                  0\nopen_opps_24_months_cortex                  0\nopen_opps_1_months_cdss                     0\nopen_opps_6_months_cdss                     0\nopen_opps_12_months_cdss                    0\nopen_opps_24_months_cdss                    0\nopen_opps_1_months_unit42                   0\nopen_opps_6_months_unit42                   0\nopen_opps_12_months_unit42                  0\nopen_opps_24_months_unit42                  0\nopen_opps_1_months_sase                     0\nopen_opps_6_months_sase                     0\nopen_opps_12_months_sase                    0\nopen_opps_24_months_sase                    0\nindustry                                    0\ncustomer_acct_type__c                       0\ninitial_totalclosed__c                      0\ninitial_totalopenhierarchy__c               0\ninitial_totalclosedhierarchy__c             0\nfocus_level__c                              0\naccount_tenure                              0\ncustomer_acct_type_simple                   0\nmillionaire_customer__c                     0\nsecurity2000__c                             0\nregion                                      0\nbilling_country                             0\nLength: 236, dtype: int64\n",
          "name": "stdout"
        }
      ]
    },
    {
      "execution_count": 0,
      "cell_type": "code",
      "metadata": {},
      "source": [
        ""
      ],
      "outputs": []
    }
  ]
}