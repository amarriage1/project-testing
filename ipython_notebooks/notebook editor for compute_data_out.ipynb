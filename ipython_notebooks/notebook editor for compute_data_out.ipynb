{
  "nbformat": 4,
  "nbformat_minor": 0,
  "metadata": {
    "kernelspec": {
      "display_name": "Python 3",
      "language": "python",
      "name": "python3"
    },
    "associatedRecipe": "compute_data_out",
    "creator": "irene",
    "createdOn": 1669305804625,
    "tags": [
      "recipe-editor"
    ],
    "customFields": {}
  },
  "cells": [
    {
      "cell_type": "code",
      "metadata": {},
      "outputs": [],
      "execution_count": 0,
      "source": [
        "import dataiku\n",
        "df \u003d dataiku.Dataset(\"data\").get_dataframe()\n",
        "print(df.isin([\"Infinity\", \"-Infinity\"]).sum())"
      ]
    }
  ]
}