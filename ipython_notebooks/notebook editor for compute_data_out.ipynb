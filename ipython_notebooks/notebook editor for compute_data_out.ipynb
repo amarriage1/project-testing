{
  "metadata": {
    "kernelspec": {
      "name": "python3",
      "display_name": "Python 3",
      "language": "python"
    },
    "associatedRecipe": "compute_data_out",
    "creator": "irene",
    "createdOn": 1669305804625,
    "tags": [
      "recipe-editor"
    ],
    "customFields": {},
    "hide_input": false,
    "language_info": {
      "name": "python",
      "version": "3.6.8",
      "mimetype": "text/x-python",
      "codemirror_mode": {
        "name": "ipython",
        "version": 3
      },
      "pygments_lexer": "ipython3",
      "nbconvert_exporter": "python",
      "file_extension": ".py"
    },
    "modifiedBy": "admin"
  },
  "nbformat": 4,
  "nbformat_minor": 1,
  "cells": [
    {
      "execution_count": 0,
      "cell_type": "code",
      "metadata": {},
      "source": [
        "import dataiku\nimport numpy as np\nimport sys\n\nclient \u003d dataiku.api_client()\n\nclient.list_code_envs()\n"
      ],
      "outputs": []
    },
    {
      "execution_count": 0,
      "cell_type": "code",
      "metadata": {},
      "source": [
        "import dataiku\nimport multiprocessing as mp\n\nn_cores \u003d mp.cpu_count()\npool_size \u003d (n_cores - 1) if (n_cores \u003e 1) else n_cores\n\n\nprint(n_cores)\nclient \u003d dataiku.api_client()\ncodeenvs \u003d client.list_code_envs()\n\ndef build_codeenv(env):\n    client \u003d dataiku.api_client()\n    print(f\"\u003d\u003d\u003e Updating Code Env {env[\u0027envName\u0027]} for language {env[\u0027envLang\u0027]}\")    \n    \n    codeEnv \u003d client.get_code_env(env_lang\u003denv[\u0027envLang\u0027], env_name\u003denv[\u0027envName\u0027])        \n    codeEnv.update_packages(force_rebuild_env\u003dTrue)\n    print(f\"###### \u003d\u003d\u003e Error during update of Code Env {env[\u0027envName\u0027]}\")    \n    \n        \nprint(\"\\n \u003d\u003d\u003d\u003d BEGIN:  Updating Code Envs for Containers \u003d\u003d\u003d\u003d\")\ncontList \u003d [{\u0027envName\u0027:c[\u0027envName\u0027],\u0027envLang\u0027:c[\u0027envLang\u0027]} for c in codeenvs if c[\u0027containerConfs\u0027]]\n\nprint(f\u0027Total Number of code envs: {len(codeenvs)} \\nCodeEnvs with container: {len(contList)}\u0027)\n\npool_obj \u003d mp.Pool(pool_size)\n\nanswer \u003d pool_obj.map(build_codeenv,contList)\n\n   \nprint(\"\\n \u003d\u003d\u003d\u003d END:   Updating Code Envs for Containers \u003d\u003d\u003d\u003d\")\n\nprint(contList)\nfor c in contList:\n          print(c)"
      ],
      "outputs": []
    },
    {
      "execution_count": 0,
      "cell_type": "code",
      "metadata": {},
      "source": [
        ""
      ],
      "outputs": []
    }
  ]
}